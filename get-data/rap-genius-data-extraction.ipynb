{
 "cells": [
  {
   "cell_type": "code",
   "execution_count": 196,
   "metadata": {},
   "outputs": [],
   "source": [
    "import requests\n",
    "from bs4 import BeautifulSoup\n",
    "import os\n",
    "import pandas as pd\n",
    "from tqdm import tqdm"
   ]
  },
  {
   "cell_type": "markdown",
   "metadata": {},
   "source": [
    "<h3>Create Dataset from Rap Genius Data</h3>"
   ]
  },
  {
   "cell_type": "code",
   "execution_count": 4,
   "metadata": {},
   "outputs": [
    {
     "data": {
      "text/plain": [
       "200"
      ]
     },
     "execution_count": 4,
     "metadata": {},
     "output_type": "execute_result"
    }
   ],
   "source": [
    "with open(\"../api-key.txt\", \"r\") as file:\n",
    "    access_token = file.read()\n",
    "base_url = \"http://api.genius.com\"\n",
    "headers = {'Authorization': f'Bearer {access_token}'}\n",
    "search_url = base_url + \"/search\"\n",
    "song_title = \"Lithium\"\n",
    "params = {'q': song_title}\n",
    "response = requests.get(search_url, params=params, headers=headers)\n",
    "response.status_code"
   ]
  },
  {
   "cell_type": "code",
   "execution_count": 6,
   "metadata": {},
   "outputs": [
    {
     "name": "stdout",
     "output_type": "stream",
     "text": [
      "Lithium ---- Nirvana\n",
      "/songs/56433\n",
      "\n",
      "Lithium ---- Evanescence\n",
      "/songs/183356\n",
      "\n",
      "Lithium ---- Trippie Redd\n",
      "/songs/3454487\n",
      "\n",
      "Lithium ---- BONES\n",
      "/songs/4524735\n",
      "\n",
      "Black Lithium ---- Canibus\n",
      "/songs/3795666\n",
      "\n",
      "Lithium (Synthesis) ---- Evanescence\n",
      "/songs/3235559\n",
      "\n",
      "Lithium ---- Method Man\n",
      "/songs/3945651\n",
      "\n",
      "Lithium Sunset ---- Sting\n",
      "/songs/389349\n",
      "\n",
      "Lithium Lips ---- Mac Lethal\n",
      "/songs/151212\n",
      "\n",
      "Lithium ---- Muse\n",
      "/songs/766569\n",
      "\n"
     ]
    }
   ],
   "source": [
    "data = response.json()['response']['hits']\n",
    "for idx, i in enumerate(data):\n",
    "    print(data[idx]['result']['title'], \"----\", data[idx]['result']['primary_artist']['name'])\n",
    "    print(data[idx][\"result\"][\"api_path\"])\n",
    "    print()"
   ]
  },
  {
   "cell_type": "code",
   "execution_count": 11,
   "metadata": {},
   "outputs": [
    {
     "data": {
      "text/plain": [
       "'I’m so lonely, that’s okay, I shaved my head'"
      ]
     },
     "execution_count": 11,
     "metadata": {},
     "output_type": "execute_result"
    }
   ],
   "source": [
    "headers = {'Authorization': f'Bearer {access_token}'}\n",
    "lyric_query = base_url + \"/referents\"\n",
    "\n",
    "params = {'song_id': \"56433\"}\n",
    "response = requests.get(lyric_query, params=params, headers=headers)\n",
    "response.json()['response']['referents'][0]['fragment']"
   ]
  },
  {
   "cell_type": "code",
   "execution_count": 12,
   "metadata": {},
   "outputs": [
    {
     "name": "stdout",
     "output_type": "stream",
     "text": [
      "17701902\n",
      "I’m so lonely, that’s okay, I shaved my head\n",
      "['As far as anyone knows, Kurt Cobain has never actually shaved his head and made this line up for the purpose of the song.']\n",
      "\n",
      "11055484\n",
      "And I’m not sad\n",
      "['He uses a negative phrase like “I’m not sad” rather than “I am happy” or something positive. This puts the word “sad” in the listener’s head, and conveys a more depressed meaning than an uplifting one.']\n",
      "\n",
      "7619144\n",
      "Yeah, yeah\n",
      " Yeah, yeah\n",
      " Yeah, yeah\n",
      " Yeah, yeah\n",
      " Yeah, yeah\n",
      " Yeah, yeah\n",
      " Yeah\n",
      "['The chorus also contrasts the verses as to illustrate the contrast between mania and depression in the Bipolar mind.']\n",
      "\n",
      "1970348\n",
      "I’m so happy ’cause today I found my friends, they’re in my head\n",
      "['This song is about a man becoming religious to get over the death of his spouse, so I would suggest that these lines set the tone of that story. He’s happy because he has finally found friends in his head and this makes him happy because it is allowing him to finally get over his depression of his wife dying.']\n",
      "\n",
      "1451038\n",
      "I’m so excited, I can’t wait to meet you there and I don’t care\n",
      "['Cobain is speaking on terms of depression and mania, where something is simultaneously entertaining and awful. He wants to meet you and see you, but he also wants nothing to do with it. The subject joins the rest of the song, a perfect description of manic depression.']\n",
      "\n",
      "1397089\n",
      "I’m so ugly, that’s okay, ’cause so are you, we broke our mirrors\n",
      "[{'tag': 'p', 'children': ['He talked about how ugly he thought he was all of the time. I remember one day he looked in a mirror and almost shed a few tears because he was so uncomfortable in his own skin. This photo was one of the only ones he’s ever liked of himself. He told me he liked it because he thought he looked good. Kurt rarely looked at a photo of himself and felt he was attractive. he kept that photo in his wallet for a while, I think. He was proud of it.“', {'tag': 'br'}, '- ', {'tag': 'a', 'attributes': {'href': 'http://www.anothermag.com/art-photography/3530/ten-things-you-might-not-know-about-kurt-cobain', 'rel': 'noopener nofollow'}, 'children': ['Krist Novoselic.']}, {'tag': 'br'}, 'This is the picture:']}]\n",
      "\n",
      "1055137\n",
      "I’m so horny, that’s okay, my will is good\n",
      "['Hypersexuality is common among bipolar people. Kurt is experiencing this symptom.']\n",
      "\n",
      "1054171\n",
      "Light my candles in a daze ’cause I’ve found God\n",
      "['He lights votive candles, used for prayers:']\n",
      "\n",
      "625122\n",
      "I like it, I’m not gonna crack\n",
      " I miss you, I’m not gonna crack\n",
      " I love you, I’m not gonna crack\n",
      " I killed you, I’m not gonna crack\n",
      " I like it, I’m not gonna crack\n",
      " I miss you, I’m not gonna crack\n",
      " I love you, I’m not gonna crack\n",
      " I killed you, I’m not gonna crack\n",
      "['According to biographer Michael Azerrad, the song references a man’s turn towards religion to cope with the death of his girlfriend and keep from suicide.  Similarly, Lithium, a mood stabilizer often prescribed for those suffering from manic depression, can help manage the depressive, sometimes suicidal feelings that accompany the illness.  Lithium can dull emotions, making them, in some ways, more manageable, just as religion can dull the pain of loss enough to keep him from cracking.']\n",
      "\n",
      "430275\n",
      "Sunday mornin’ is everyday for all I care and I’m not scared\n",
      "['Every day is lazy Sunday…']\n",
      "\n"
     ]
    }
   ],
   "source": [
    "for referent in response.json()['response']['referents']:\n",
    "    print(referent[\"id\"])\n",
    "    print(referent['fragment'])\n",
    "    print(referent['annotations'][0]['body']['dom']['children'][0]['children'])\n",
    "    print()"
   ]
  },
  {
   "cell_type": "code",
   "execution_count": null,
   "metadata": {},
   "outputs": [],
   "source": [
    "def get_annotation_string_recurse(annotation_str, annotation):\n",
    "    for data in annotation:\n",
    "        if isinstance(data, str):\n",
    "            annotation_str += data\n",
    "        elif isinstance(data, dict):\n",
    "                #print(data)\n",
    "                #print(data['children'][0])\n",
    "                #print(data['children'][3])\n",
    "                annotation_str += get_annotation_string_recurse(annotation_str, annotation)"
   ]
  },
  {
   "cell_type": "code",
   "execution_count": 157,
   "metadata": {},
   "outputs": [],
   "source": [
    "def get_lyrics_annotations(referents):\n",
    "    lyric_list = []\n",
    "    annotation_list = []\n",
    "    for referent in referents:\n",
    "        # print(referent[\"id\"])\n",
    "        # sometimes a list of dicts\n",
    "        annotation = referent['annotations'][0]['body']['dom']['children'][0]['children']\n",
    "        lyric = referent['fragment']\n",
    "        # print(lyric)\n",
    "        # print(annotation)\n",
    "        # print()\n",
    "        annotation_str = \"\" \n",
    "        for data in annotation:\n",
    "            #print(data)\n",
    "            if isinstance(data, str):\n",
    "                annotation_str += data\n",
    "            elif isinstance(data, dict):\n",
    "                tag = data[\"tag\"]\n",
    "                if tag == \"p\":\n",
    "                    # do something\n",
    "                    annotation_str += data[\"children\"][0]\n",
    "        annotation_list.append(annotation_str)\n",
    "        lyric_list.append(lyric)\n",
    "    return lyric_list, annotation_list\n",
    "referents = response.json()['response']['referents']\n",
    "lyric_list, annotation_list = get_lyrics_annotations(referents)"
   ]
  },
  {
   "cell_type": "code",
   "execution_count": 158,
   "metadata": {},
   "outputs": [],
   "source": [
    "def get_song_ids_list_from_query(headers, song_title):\n",
    "    search_url = base_url + \"/search\"\n",
    "    params = {'q': song_title}\n",
    "    response = requests.get(search_url, params=params, headers=headers)\n",
    "    data = response.json()['response']['hits']\n",
    "    song_ids_list = []\n",
    "    for idx, i in enumerate(data):\n",
    "        artist, song = data[idx]['result']['title'], data[idx]['result']['primary_artist']['name']\n",
    "        song_id = data[idx][\"result\"][\"api_path\"].split(\"/\")[-1]\n",
    "        song_ids_list.append((song_id, artist, song))\n",
    "    return song_ids_list"
   ]
  },
  {
   "cell_type": "code",
   "execution_count": 174,
   "metadata": {},
   "outputs": [],
   "source": [
    "def get_lyrics_annotations_from_song_ids(headers, song_ids_list):\n",
    "    \n",
    "    song_data_dict = {}\n",
    "    \n",
    "    for song_id, song, artist in song_ids_list:\n",
    "        params = {'song_id': song_id}\n",
    "        response = requests.get(lyric_query, params=params, headers=headers)\n",
    "        song_referents = response.json()['response']['referents']\n",
    "        #print(song_id, artist, song)\n",
    "        song_data_dict[song_id] = {}\n",
    "        \n",
    "        lyric_list, annotation_list = get_lyrics_annotations(song_referents)\n",
    "        \n",
    "        song_data_dict[song_id][\"artist\"] = artist\n",
    "        song_data_dict[song_id][\"song\"] = song\n",
    "        song_data_dict[song_id][\"lyric_list\"] = lyric_list\n",
    "        song_data_dict[song_id][\"annotation_list\"] = annotation_list\n",
    "        \n",
    "    return song_data_dict"
   ]
  },
  {
   "cell_type": "code",
   "execution_count": 197,
   "metadata": {},
   "outputs": [
    {
     "name": "stderr",
     "output_type": "stream",
     "text": [
      "100%|██████████| 8/8 [00:24<00:00,  3.11s/it]\n"
     ]
    }
   ],
   "source": [
    "songs_to_search = [\"lithium\", \"You\", \"Hey\", \"Congratulations\", \"love\", \"amazing\", \"New York\", \"Paris\"]\n",
    "song_data_dict = {}\n",
    "for song in tqdm(songs_to_search):\n",
    "    song_ids_list = get_song_ids_list_from_query(headers, song)\n",
    "    song_data_dict.update(get_lyrics_annotations_from_song_ids(headers, song_ids_list))"
   ]
  },
  {
   "cell_type": "code",
   "execution_count": 198,
   "metadata": {},
   "outputs": [],
   "source": [
    "song_data_dict.keys()\n",
    "song_list = []\n",
    "artist_list = []\n",
    "full_lyric_list = []\n",
    "full_annotation_list = []\n",
    "song_id_list = []\n",
    "\n",
    "for song_id in song_data_dict.keys():\n",
    "    song = song_data_dict[song_id][\"song\"]\n",
    "    artist = song_data_dict[song_id][\"artist\"]\n",
    "    lyric_list = song_data_dict[song_id][\"lyric_list\"]\n",
    "    annotation_list = song_data_dict[song_id][\"annotation_list\"]\n",
    "    \n",
    "    song_list += len(lyric_list) * [song]\n",
    "    artist_list += len(lyric_list) * [artist]\n",
    "    song_id_list += len(lyric_list) * [song_id]\n",
    "    full_lyric_list += lyric_list\n",
    "    full_annotation_list += annotation_list\n",
    "    \n",
    "    \n",
    "df = pd.DataFrame({\"song_id\":song_id_list, \"artist\":artist_list, \"song\":song_list, \n",
    "                   \"lyric\": full_lyric_list, \"annotation\": full_annotation_list}) "
   ]
  },
  {
   "cell_type": "code",
   "execution_count": 199,
   "metadata": {},
   "outputs": [
    {
     "data": {
      "text/html": [
       "<div>\n",
       "<style scoped>\n",
       "    .dataframe tbody tr th:only-of-type {\n",
       "        vertical-align: middle;\n",
       "    }\n",
       "\n",
       "    .dataframe tbody tr th {\n",
       "        vertical-align: top;\n",
       "    }\n",
       "\n",
       "    .dataframe thead th {\n",
       "        text-align: right;\n",
       "    }\n",
       "</style>\n",
       "<table border=\"1\" class=\"dataframe\">\n",
       "  <thead>\n",
       "    <tr style=\"text-align: right;\">\n",
       "      <th></th>\n",
       "      <th>song_id</th>\n",
       "      <th>artist</th>\n",
       "      <th>song</th>\n",
       "      <th>lyric</th>\n",
       "      <th>annotation</th>\n",
       "    </tr>\n",
       "  </thead>\n",
       "  <tbody>\n",
       "    <tr>\n",
       "      <th>0</th>\n",
       "      <td>56433</td>\n",
       "      <td>Nirvana</td>\n",
       "      <td>Lithium</td>\n",
       "      <td>I’m so lonely, that’s okay, I shaved my head</td>\n",
       "      <td>As far as anyone knows, Kurt Cobain has never ...</td>\n",
       "    </tr>\n",
       "    <tr>\n",
       "      <th>1</th>\n",
       "      <td>56433</td>\n",
       "      <td>Nirvana</td>\n",
       "      <td>Lithium</td>\n",
       "      <td>And I’m not sad</td>\n",
       "      <td>He uses a negative phrase like “I’m not sad” r...</td>\n",
       "    </tr>\n",
       "    <tr>\n",
       "      <th>2</th>\n",
       "      <td>56433</td>\n",
       "      <td>Nirvana</td>\n",
       "      <td>Lithium</td>\n",
       "      <td>Yeah, yeah\\n Yeah, yeah\\n Yeah, yeah\\n Yeah, y...</td>\n",
       "      <td>The chorus also contrasts the verses as to ill...</td>\n",
       "    </tr>\n",
       "    <tr>\n",
       "      <th>3</th>\n",
       "      <td>56433</td>\n",
       "      <td>Nirvana</td>\n",
       "      <td>Lithium</td>\n",
       "      <td>I’m so happy ’cause today I found my friends, ...</td>\n",
       "      <td>This song is about a man becoming religious to...</td>\n",
       "    </tr>\n",
       "    <tr>\n",
       "      <th>4</th>\n",
       "      <td>56433</td>\n",
       "      <td>Nirvana</td>\n",
       "      <td>Lithium</td>\n",
       "      <td>I’m so excited, I can’t wait to meet you there...</td>\n",
       "      <td>Cobain is speaking on terms of depression and ...</td>\n",
       "    </tr>\n",
       "  </tbody>\n",
       "</table>\n",
       "</div>"
      ],
      "text/plain": [
       "  song_id   artist     song  \\\n",
       "0   56433  Nirvana  Lithium   \n",
       "1   56433  Nirvana  Lithium   \n",
       "2   56433  Nirvana  Lithium   \n",
       "3   56433  Nirvana  Lithium   \n",
       "4   56433  Nirvana  Lithium   \n",
       "\n",
       "                                               lyric  \\\n",
       "0       I’m so lonely, that’s okay, I shaved my head   \n",
       "1                                    And I’m not sad   \n",
       "2  Yeah, yeah\\n Yeah, yeah\\n Yeah, yeah\\n Yeah, y...   \n",
       "3  I’m so happy ’cause today I found my friends, ...   \n",
       "4  I’m so excited, I can’t wait to meet you there...   \n",
       "\n",
       "                                          annotation  \n",
       "0  As far as anyone knows, Kurt Cobain has never ...  \n",
       "1  He uses a negative phrase like “I’m not sad” r...  \n",
       "2  The chorus also contrasts the verses as to ill...  \n",
       "3  This song is about a man becoming religious to...  \n",
       "4  Cobain is speaking on terms of depression and ...  "
      ]
     },
     "execution_count": 199,
     "metadata": {},
     "output_type": "execute_result"
    }
   ],
   "source": [
    "df.head()"
   ]
  },
  {
   "cell_type": "code",
   "execution_count": 200,
   "metadata": {},
   "outputs": [
    {
     "data": {
      "text/plain": [
       "544"
      ]
     },
     "execution_count": 200,
     "metadata": {},
     "output_type": "execute_result"
    }
   ],
   "source": [
    "len(df)"
   ]
  },
  {
   "cell_type": "code",
   "execution_count": 201,
   "metadata": {},
   "outputs": [],
   "source": [
    "df.to_csv(\"lyrics_annotations.csv\")"
   ]
  },
  {
   "cell_type": "code",
   "execution_count": null,
   "metadata": {},
   "outputs": [],
   "source": []
  }
 ],
 "metadata": {
  "kernelspec": {
   "display_name": "Python 3",
   "language": "python",
   "name": "python3"
  },
  "language_info": {
   "codemirror_mode": {
    "name": "ipython",
    "version": 3
   },
   "file_extension": ".py",
   "mimetype": "text/x-python",
   "name": "python",
   "nbconvert_exporter": "python",
   "pygments_lexer": "ipython3",
   "version": "3.7.6"
  }
 },
 "nbformat": 4,
 "nbformat_minor": 4
}
