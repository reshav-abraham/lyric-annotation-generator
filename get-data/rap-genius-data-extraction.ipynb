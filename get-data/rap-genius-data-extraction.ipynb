{
 "cells": [
  {
   "cell_type": "code",
   "execution_count": 1,
   "metadata": {},
   "outputs": [],
   "source": [
    "import requests\n",
    "from bs4 import BeautifulSoup\n",
    "import os"
   ]
  },
  {
   "cell_type": "markdown",
   "metadata": {},
   "source": [
    "<h3>Create Dataset from Rap Genius Data</h3>"
   ]
  },
  {
   "cell_type": "code",
   "execution_count": 4,
   "metadata": {},
   "outputs": [
    {
     "data": {
      "text/plain": [
       "200"
      ]
     },
     "execution_count": 4,
     "metadata": {},
     "output_type": "execute_result"
    }
   ],
   "source": [
    "with open(\"../api-key.txt\", \"r\") as file:\n",
    "    access_token = file.read()\n",
    "base_url = \"http://api.genius.com\"\n",
    "headers = {'Authorization': f'Bearer {access_token}'}\n",
    "search_url = base_url + \"/search\"\n",
    "song_title = \"Lithium\"\n",
    "params = {'q': song_title}\n",
    "response = requests.get(search_url, params=params, headers=headers)\n",
    "response.status_code"
   ]
  },
  {
   "cell_type": "code",
   "execution_count": 6,
   "metadata": {},
   "outputs": [
    {
     "name": "stdout",
     "output_type": "stream",
     "text": [
      "Lithium ---- Nirvana\n",
      "/songs/56433\n",
      "\n",
      "Lithium ---- Evanescence\n",
      "/songs/183356\n",
      "\n",
      "Lithium ---- Trippie Redd\n",
      "/songs/3454487\n",
      "\n",
      "Lithium ---- BONES\n",
      "/songs/4524735\n",
      "\n",
      "Black Lithium ---- Canibus\n",
      "/songs/3795666\n",
      "\n",
      "Lithium (Synthesis) ---- Evanescence\n",
      "/songs/3235559\n",
      "\n",
      "Lithium ---- Method Man\n",
      "/songs/3945651\n",
      "\n",
      "Lithium Sunset ---- Sting\n",
      "/songs/389349\n",
      "\n",
      "Lithium Lips ---- Mac Lethal\n",
      "/songs/151212\n",
      "\n",
      "Lithium ---- Muse\n",
      "/songs/766569\n",
      "\n"
     ]
    }
   ],
   "source": [
    "data = response.json()['response']['hits']\n",
    "for idx, i in enumerate(data):\n",
    "    print(data[idx]['result']['title'], \"----\", data[idx]['result']['primary_artist']['name'])\n",
    "    print(data[idx][\"result\"][\"api_path\"])\n",
    "    print()"
   ]
  },
  {
   "cell_type": "code",
   "execution_count": 11,
   "metadata": {},
   "outputs": [
    {
     "data": {
      "text/plain": [
       "'I’m so lonely, that’s okay, I shaved my head'"
      ]
     },
     "execution_count": 11,
     "metadata": {},
     "output_type": "execute_result"
    }
   ],
   "source": [
    "headers = {'Authorization': f'Bearer {access_token}'}\n",
    "lyric_query = base_url + \"/referents\"\n",
    "\n",
    "params = {'song_id': \"56433\"}\n",
    "response = requests.get(lyric_query, params=params, headers=headers)\n",
    "response.json()['response']['referents'][0]['fragment']"
   ]
  },
  {
   "cell_type": "code",
   "execution_count": 12,
   "metadata": {},
   "outputs": [
    {
     "name": "stdout",
     "output_type": "stream",
     "text": [
      "17701902\n",
      "I’m so lonely, that’s okay, I shaved my head\n",
      "['As far as anyone knows, Kurt Cobain has never actually shaved his head and made this line up for the purpose of the song.']\n",
      "\n",
      "11055484\n",
      "And I’m not sad\n",
      "['He uses a negative phrase like “I’m not sad” rather than “I am happy” or something positive. This puts the word “sad” in the listener’s head, and conveys a more depressed meaning than an uplifting one.']\n",
      "\n",
      "7619144\n",
      "Yeah, yeah\n",
      " Yeah, yeah\n",
      " Yeah, yeah\n",
      " Yeah, yeah\n",
      " Yeah, yeah\n",
      " Yeah, yeah\n",
      " Yeah\n",
      "['The chorus also contrasts the verses as to illustrate the contrast between mania and depression in the Bipolar mind.']\n",
      "\n",
      "1970348\n",
      "I’m so happy ’cause today I found my friends, they’re in my head\n",
      "['This song is about a man becoming religious to get over the death of his spouse, so I would suggest that these lines set the tone of that story. He’s happy because he has finally found friends in his head and this makes him happy because it is allowing him to finally get over his depression of his wife dying.']\n",
      "\n",
      "1451038\n",
      "I’m so excited, I can’t wait to meet you there and I don’t care\n",
      "['Cobain is speaking on terms of depression and mania, where something is simultaneously entertaining and awful. He wants to meet you and see you, but he also wants nothing to do with it. The subject joins the rest of the song, a perfect description of manic depression.']\n",
      "\n",
      "1397089\n",
      "I’m so ugly, that’s okay, ’cause so are you, we broke our mirrors\n",
      "[{'tag': 'p', 'children': ['He talked about how ugly he thought he was all of the time. I remember one day he looked in a mirror and almost shed a few tears because he was so uncomfortable in his own skin. This photo was one of the only ones he’s ever liked of himself. He told me he liked it because he thought he looked good. Kurt rarely looked at a photo of himself and felt he was attractive. he kept that photo in his wallet for a while, I think. He was proud of it.“', {'tag': 'br'}, '- ', {'tag': 'a', 'attributes': {'href': 'http://www.anothermag.com/art-photography/3530/ten-things-you-might-not-know-about-kurt-cobain', 'rel': 'noopener nofollow'}, 'children': ['Krist Novoselic.']}, {'tag': 'br'}, 'This is the picture:']}]\n",
      "\n",
      "1055137\n",
      "I’m so horny, that’s okay, my will is good\n",
      "['Hypersexuality is common among bipolar people. Kurt is experiencing this symptom.']\n",
      "\n",
      "1054171\n",
      "Light my candles in a daze ’cause I’ve found God\n",
      "['He lights votive candles, used for prayers:']\n",
      "\n",
      "625122\n",
      "I like it, I’m not gonna crack\n",
      " I miss you, I’m not gonna crack\n",
      " I love you, I’m not gonna crack\n",
      " I killed you, I’m not gonna crack\n",
      " I like it, I’m not gonna crack\n",
      " I miss you, I’m not gonna crack\n",
      " I love you, I’m not gonna crack\n",
      " I killed you, I’m not gonna crack\n",
      "['According to biographer Michael Azerrad, the song references a man’s turn towards religion to cope with the death of his girlfriend and keep from suicide.  Similarly, Lithium, a mood stabilizer often prescribed for those suffering from manic depression, can help manage the depressive, sometimes suicidal feelings that accompany the illness.  Lithium can dull emotions, making them, in some ways, more manageable, just as religion can dull the pain of loss enough to keep him from cracking.']\n",
      "\n",
      "430275\n",
      "Sunday mornin’ is everyday for all I care and I’m not scared\n",
      "['Every day is lazy Sunday…']\n",
      "\n"
     ]
    }
   ],
   "source": [
    "for referent in response.json()['response']['referents']:\n",
    "    print(referent[\"id\"])\n",
    "    print(referent['fragment'])\n",
    "    print(referent['annotations'][0]['body']['dom']['children'][0]['children'])\n",
    "    print()"
   ]
  }
 ],
 "metadata": {
  "kernelspec": {
   "display_name": "Python 3",
   "language": "python",
   "name": "python3"
  },
  "language_info": {
   "codemirror_mode": {
    "name": "ipython",
    "version": 3
   },
   "file_extension": ".py",
   "mimetype": "text/x-python",
   "name": "python",
   "nbconvert_exporter": "python",
   "pygments_lexer": "ipython3",
   "version": "3.7.6"
  }
 },
 "nbformat": 4,
 "nbformat_minor": 4
}
